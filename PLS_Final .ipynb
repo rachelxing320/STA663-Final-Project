{
 "cells": [
  {
   "cell_type": "code",
   "execution_count": 1,
   "metadata": {},
   "outputs": [],
   "source": [
    "#STA 663 Final Project\n",
    "\n",
    "#Juncheng Dong, Xiaoqiao Xing\n",
    "\n",
    "#May 2020\n",
    "\n",
    "import numpy as np \n",
    "import pandas as pd\n",
    "import math\n",
    "import matplotlib.pyplot as plt\n",
    "from numpy import linalg as la\n",
    "import random \n",
    "from sklearn.cross_decomposition import PLSRegression\n",
    "from sklearn.linear_model import Ridge\n",
    "from sklearn.model_selection import GridSearchCV\n",
    "from sklearn import model_selection\n",
    "from sklearn.model_selection import KFold\n",
    "from sklearn.decomposition import PCA\n",
    "from sklearn.metrics import mean_squared_error"
   ]
  },
  {
   "cell_type": "markdown",
   "metadata": {},
   "source": [
    "# Partial Least Square Function "
   ]
  },
  {
   "cell_type": "code",
   "execution_count": 2,
   "metadata": {},
   "outputs": [],
   "source": [
    "def Normalize(X):\n",
    "    '''func to centerize and normalize the dataset,dataset should be numpy array'''\n",
    "    \n",
    "    return (X - np.mean(X, axis = 0))/(np.std(X, axis = 0))"
   ]
  },
  {
   "cell_type": "code",
   "execution_count": 3,
   "metadata": {},
   "outputs": [],
   "source": [
    "def norm(x):\n",
    "    sum=0\n",
    "    for i in x:\n",
    "        sum = sum + i**2\n",
    "    \n",
    "    return np.sqrt(sum)"
   ]
  },
  {
   "cell_type": "code",
   "execution_count": 4,
   "metadata": {},
   "outputs": [],
   "source": [
    "def PLS(X,Y,ncomponents,tol=1e-6):\n",
    "    E,F=X,Y\n",
    "    T = []\n",
    "    W = []\n",
    "    Q = []\n",
    "    U = []\n",
    "    P = []\n",
    "    B = []\n",
    "    rY, cY = Y.shape\n",
    "    rX, cX = X.shape\n",
    "    for i in range(ncomponents):\n",
    "        index=np.random.choice(range(Y.shape[1]))\n",
    "        #u=Y[:,index]\n",
    "        u=np.random.rand(rY)\n",
    "        counter = 0\n",
    "        while(True):\n",
    "            w = E.T@u\n",
    "            w = w/norm(w)\n",
    "            t = E@w\n",
    "            t = t/norm(t)\n",
    "            q = F.T@t\n",
    "            q = q/norm(q)\n",
    "            u = F@q\n",
    "            \n",
    "            if counter==0:\n",
    "                tlast=t\n",
    "            elif norm(tlast-t)<tol:\n",
    "                break\n",
    "            else:\n",
    "                tlast=t\n",
    "            \n",
    "            counter=counter+1\n",
    "        \n",
    "        b = t.T@u\n",
    "        p = E.T@t\n",
    "        \n",
    "        B.append(b)\n",
    "        T.append(t)\n",
    "        P.append(p)\n",
    "        W.append(w)\n",
    "        Q.append(q)\n",
    "        U.append(u)\n",
    "        E = E-t.reshape(-1,1)@p.reshape(1,-1)\n",
    "        F = F-b*t.reshape(-1,1)@q.reshape(1,-1)\n",
    "    \n",
    "        \n",
    "    return (np.array(T),np.array(P),np.array(W),np.array(Q),np.array(U),np.diag(B))"
   ]
  },
  {
   "cell_type": "markdown",
   "metadata": {},
   "source": [
    "# Test Function on Wine Data "
   ]
  },
  {
   "cell_type": "code",
   "execution_count": 5,
   "metadata": {},
   "outputs": [],
   "source": [
    "#Example1 Data : Wine\n",
    "X1 = np.array([[7, 7, 13, 7], \n",
    "              [4, 3, 14, 7],\n",
    "              [10, 5, 12, 5],\n",
    "              [16, 7, 11, 3],\n",
    "             [13, 3, 10, 3]])\n",
    "\n",
    "Y1 = np.array([[14, 7, 8], \n",
    "              [10, 7, 6],\n",
    "              [8, 5, 5],\n",
    "              [2, 4, 7],\n",
    "              [6, 2, 4]])"
   ]
  },
  {
   "cell_type": "code",
   "execution_count": 6,
   "metadata": {},
   "outputs": [],
   "source": [
    "X1=Normalize(X1)\n",
    "Y1=Normalize(Y1)\n",
    "[T, P, W, Q, U, B] = PLS(X1,Y1,2)\n",
    "P = P.T\n",
    "Q = Q.T"
   ]
  },
  {
   "cell_type": "code",
   "execution_count": 7,
   "metadata": {},
   "outputs": [
    {
     "data": {
      "text/plain": [
       "array([[-2.09142399, -0.76525899],\n",
       "       [ 0.05234806, -2.23353319],\n",
       "       [ 2.18541095,  0.0316266 ],\n",
       "       [ 2.2220038 ,  0.06214274]])"
      ]
     },
     "execution_count": 7,
     "metadata": {},
     "output_type": "execute_result"
    }
   ],
   "source": [
    "P"
   ]
  },
  {
   "cell_type": "code",
   "execution_count": 9,
   "metadata": {},
   "outputs": [
    {
     "data": {
      "text/plain": [
       "array([[-0.26620008, -0.24979645,  0.01208379],\n",
       "       [ 0.0616003 ,  0.31967597,  0.7899574 ],\n",
       "       [ 0.29689303,  0.36787953,  0.2568013 ],\n",
       "       [ 0.30113295,  0.36986723,  0.2505817 ]])"
      ]
     },
     "execution_count": 9,
     "metadata": {},
     "output_type": "execute_result"
    }
   ],
   "source": [
    "BPLS = la.pinv(P.T)@B@Q.T\n",
    "BPLS"
   ]
  },
  {
   "cell_type": "markdown",
   "metadata": {},
   "source": [
    "# Compare OLS and PLS when there is only one solution"
   ]
  },
  {
   "cell_type": "code",
   "execution_count": 10,
   "metadata": {},
   "outputs": [
    {
     "data": {
      "text/plain": [
       "array([[ 0.54866045,  0.44999304, -0.1671458 , -1.52615899,  1.64624995],\n",
       "       [-1.49519606, -0.19913497,  0.61932406, -0.67909876,  0.0185365 ],\n",
       "       [ 0.22316393,  0.67706721,  0.02651495,  1.16929049,  1.58098924],\n",
       "       [-0.0773167 , -0.09873618,  0.63116646, -0.34468435,  0.1556186 ],\n",
       "       [-0.68651197,  0.04042758, -0.17329471,  1.880685  , -0.0833826 ]])"
      ]
     },
     "execution_count": 10,
     "metadata": {},
     "output_type": "execute_result"
    }
   ],
   "source": [
    "# OLS vs PLS\n",
    "X_sim = np.random.randn(5, 5)\n",
    "X_sim"
   ]
  },
  {
   "cell_type": "code",
   "execution_count": 11,
   "metadata": {},
   "outputs": [
    {
     "data": {
      "text/plain": [
       "array([[ 1.58777908],\n",
       "       [-0.56625565],\n",
       "       [ 0.75361078],\n",
       "       [-2.06295635],\n",
       "       [ 0.49627838]])"
      ]
     },
     "execution_count": 11,
     "metadata": {},
     "output_type": "execute_result"
    }
   ],
   "source": [
    "Y_sim = np.random.randn(5,1)\n",
    "Y_sim"
   ]
  },
  {
   "cell_type": "code",
   "execution_count": 12,
   "metadata": {},
   "outputs": [],
   "source": [
    "X_sim = Normalize(X_sim)\n",
    "Y_sim = Normalize(Y_sim)"
   ]
  },
  {
   "cell_type": "code",
   "execution_count": 17,
   "metadata": {},
   "outputs": [
    {
     "data": {
      "text/plain": [
       "array([[-0.63015429],\n",
       "       [ 0.28514484],\n",
       "       [-0.91384279],\n",
       "       [-0.28843675],\n",
       "       [ 0.3701709 ]])"
      ]
     },
     "execution_count": 17,
     "metadata": {},
     "output_type": "execute_result"
    }
   ],
   "source": [
    "from sklearn.linear_model import LinearRegression\n",
    "\n",
    "OLS = LinearRegression()\n",
    "B_O = OLS.fit(X_sim, Y_sim).coef_.T\n",
    "B_O"
   ]
  },
  {
   "cell_type": "code",
   "execution_count": 18,
   "metadata": {},
   "outputs": [
    {
     "data": {
      "text/plain": [
       "array([[-0.63015429],\n",
       "       [ 0.28514484],\n",
       "       [-0.91384279],\n",
       "       [-0.28843675],\n",
       "       [ 0.3701709 ]])"
      ]
     },
     "execution_count": 18,
     "metadata": {},
     "output_type": "execute_result"
    }
   ],
   "source": [
    "[T, P, W, Q, U, B] = PLS(X_sim,Y_sim,5)\n",
    "\n",
    "P = P.T\n",
    "Q = Q.T\n",
    "B_P = la.pinv(P.T)@B@Q.T\n",
    "B_P"
   ]
  },
  {
   "cell_type": "code",
   "execution_count": 19,
   "metadata": {},
   "outputs": [
    {
     "data": {
      "text/plain": [
       "True"
      ]
     },
     "execution_count": 19,
     "metadata": {},
     "output_type": "execute_result"
    }
   ],
   "source": [
    "np.allclose(B_O, B_P)"
   ]
  },
  {
   "cell_type": "code",
   "execution_count": 20,
   "metadata": {},
   "outputs": [
    {
     "name": "stderr",
     "output_type": "stream",
     "text": [
      "/Applications/anaconda3/lib/python3.7/site-packages/sklearn/cross_decomposition/pls_.py:292: UserWarning: Y residual constant at iteration 4\n",
      "  warnings.warn('Y residual constant at iteration %s' % k)\n"
     ]
    },
    {
     "data": {
      "text/plain": [
       "array([[-0.70453391],\n",
       "       [ 0.31880162],\n",
       "       [-1.0217073 ],\n",
       "       [-0.32248209],\n",
       "       [ 0.41386365]])"
      ]
     },
     "execution_count": 20,
     "metadata": {},
     "output_type": "execute_result"
    }
   ],
   "source": [
    "pls = PLSRegression(n_components=5)\n",
    "\n",
    "pls.fit(X_sim, Y_sim).coef_"
   ]
  },
  {
   "cell_type": "markdown",
   "metadata": {},
   "source": [
    "# PLS Application & Comparison"
   ]
  },
  {
   "cell_type": "code",
   "execution_count": 21,
   "metadata": {},
   "outputs": [
    {
     "data": {
      "text/html": [
       "<div>\n",
       "<style scoped>\n",
       "    .dataframe tbody tr th:only-of-type {\n",
       "        vertical-align: middle;\n",
       "    }\n",
       "\n",
       "    .dataframe tbody tr th {\n",
       "        vertical-align: top;\n",
       "    }\n",
       "\n",
       "    .dataframe thead th {\n",
       "        text-align: right;\n",
       "    }\n",
       "</style>\n",
       "<table border=\"1\" class=\"dataframe\">\n",
       "  <thead>\n",
       "    <tr style=\"text-align: right;\">\n",
       "      <th></th>\n",
       "      <th>diesel</th>\n",
       "      <th>twodoors</th>\n",
       "      <th>sportsstyle</th>\n",
       "      <th>wheelbase</th>\n",
       "      <th>length</th>\n",
       "      <th>width</th>\n",
       "      <th>height</th>\n",
       "      <th>curbweight</th>\n",
       "      <th>enginesize</th>\n",
       "      <th>horsepower</th>\n",
       "      <th>horse_per_weight</th>\n",
       "      <th>conscity</th>\n",
       "      <th>price</th>\n",
       "      <th>symboling</th>\n",
       "    </tr>\n",
       "  </thead>\n",
       "  <tbody>\n",
       "    <tr>\n",
       "      <td>0</td>\n",
       "      <td>0</td>\n",
       "      <td>1</td>\n",
       "      <td>0</td>\n",
       "      <td>97.3</td>\n",
       "      <td>171.7</td>\n",
       "      <td>65.5</td>\n",
       "      <td>55.7</td>\n",
       "      <td>2209</td>\n",
       "      <td>109</td>\n",
       "      <td>85</td>\n",
       "      <td>0.038479</td>\n",
       "      <td>8.713514</td>\n",
       "      <td>7975</td>\n",
       "      <td>2</td>\n",
       "    </tr>\n",
       "    <tr>\n",
       "      <td>1</td>\n",
       "      <td>0</td>\n",
       "      <td>0</td>\n",
       "      <td>0</td>\n",
       "      <td>99.8</td>\n",
       "      <td>176.6</td>\n",
       "      <td>66.2</td>\n",
       "      <td>54.3</td>\n",
       "      <td>2337</td>\n",
       "      <td>109</td>\n",
       "      <td>102</td>\n",
       "      <td>0.043646</td>\n",
       "      <td>9.802703</td>\n",
       "      <td>13950</td>\n",
       "      <td>2</td>\n",
       "    </tr>\n",
       "    <tr>\n",
       "      <td>2</td>\n",
       "      <td>0</td>\n",
       "      <td>0</td>\n",
       "      <td>0</td>\n",
       "      <td>115.6</td>\n",
       "      <td>202.6</td>\n",
       "      <td>71.7</td>\n",
       "      <td>56.5</td>\n",
       "      <td>3740</td>\n",
       "      <td>234</td>\n",
       "      <td>155</td>\n",
       "      <td>0.041444</td>\n",
       "      <td>14.704054</td>\n",
       "      <td>34184</td>\n",
       "      <td>-1</td>\n",
       "    </tr>\n",
       "    <tr>\n",
       "      <td>3</td>\n",
       "      <td>0</td>\n",
       "      <td>1</td>\n",
       "      <td>1</td>\n",
       "      <td>102.9</td>\n",
       "      <td>183.5</td>\n",
       "      <td>67.7</td>\n",
       "      <td>52.0</td>\n",
       "      <td>3016</td>\n",
       "      <td>171</td>\n",
       "      <td>161</td>\n",
       "      <td>0.053382</td>\n",
       "      <td>12.382362</td>\n",
       "      <td>15998</td>\n",
       "      <td>3</td>\n",
       "    </tr>\n",
       "    <tr>\n",
       "      <td>4</td>\n",
       "      <td>0</td>\n",
       "      <td>0</td>\n",
       "      <td>0</td>\n",
       "      <td>101.2</td>\n",
       "      <td>176.8</td>\n",
       "      <td>64.8</td>\n",
       "      <td>54.3</td>\n",
       "      <td>2765</td>\n",
       "      <td>164</td>\n",
       "      <td>121</td>\n",
       "      <td>0.043761</td>\n",
       "      <td>11.203089</td>\n",
       "      <td>21105</td>\n",
       "      <td>0</td>\n",
       "    </tr>\n",
       "  </tbody>\n",
       "</table>\n",
       "</div>"
      ],
      "text/plain": [
       "   diesel  twodoors  sportsstyle  wheelbase  length  width  height  \\\n",
       "0       0         1            0       97.3   171.7   65.5    55.7   \n",
       "1       0         0            0       99.8   176.6   66.2    54.3   \n",
       "2       0         0            0      115.6   202.6   71.7    56.5   \n",
       "3       0         1            1      102.9   183.5   67.7    52.0   \n",
       "4       0         0            0      101.2   176.8   64.8    54.3   \n",
       "\n",
       "   curbweight  enginesize  horsepower  horse_per_weight   conscity  price  \\\n",
       "0        2209         109          85          0.038479   8.713514   7975   \n",
       "1        2337         109         102          0.043646   9.802703  13950   \n",
       "2        3740         234         155          0.041444  14.704054  34184   \n",
       "3        3016         171         161          0.053382  12.382362  15998   \n",
       "4        2765         164         121          0.043761  11.203089  21105   \n",
       "\n",
       "   symboling  \n",
       "0          2  \n",
       "1          2  \n",
       "2         -1  \n",
       "3          3  \n",
       "4          0  "
      ]
     },
     "execution_count": 21,
     "metadata": {},
     "output_type": "execute_result"
    }
   ],
   "source": [
    "#Import cars data\n",
    "df = pd.read_excel(\"/Users/rachelxing/Desktop/STA663/cars_pls_regression.xls\")\n",
    "df.head()"
   ]
  },
  {
   "cell_type": "code",
   "execution_count": 22,
   "metadata": {},
   "outputs": [
    {
     "data": {
      "text/plain": [
       "((20, 11), (20, 3))"
      ]
     },
     "execution_count": 22,
     "metadata": {},
     "output_type": "execute_result"
    }
   ],
   "source": [
    "X = df.iloc[:,:-3].to_numpy()\n",
    "Y = df.iloc[:, -3:].to_numpy()\n",
    "X.shape, Y.shape"
   ]
  },
  {
   "cell_type": "code",
   "execution_count": 23,
   "metadata": {},
   "outputs": [],
   "source": [
    "#normalize X and Y\n",
    "X = Normalize(X)\n",
    "Y = Normalize(Y)"
   ]
  },
  {
   "cell_type": "code",
   "execution_count": 24,
   "metadata": {},
   "outputs": [
    {
     "data": {
      "text/plain": [
       "20"
      ]
     },
     "execution_count": 24,
     "metadata": {},
     "output_type": "execute_result"
    }
   ],
   "source": [
    "#PLS + leave one out (20 fold)\n",
    "kf = KFold(n_splits=20, random_state=None, shuffle=False)\n",
    "kf.get_n_splits(X)\n"
   ]
  },
  {
   "cell_type": "code",
   "execution_count": 27,
   "metadata": {},
   "outputs": [],
   "source": [
    "y_predict_pls = []\n",
    "y_test_pls = []\n",
    "\n",
    "for train_index, test_index in kf.split(X):\n",
    "    \n",
    "    X_train, X_test = X[train_index], X[test_index]\n",
    "    y_train, y_test = Y[train_index], Y[test_index]\n",
    "    \n",
    "    [T, P, W, Q, U, B] = PLS(X_train,y_train,7)\n",
    "    \n",
    "    P = P.T\n",
    "    Q = Q.T\n",
    "    BPLS = la.pinv(P.T)@B@Q.T\n",
    "    \n",
    "    y_test_pls.append(y_test)\n",
    "    y_predict_pls.append(X_test@BPLS)"
   ]
  },
  {
   "cell_type": "code",
   "execution_count": 28,
   "metadata": {},
   "outputs": [],
   "source": [
    "y_predict_pls = np.array(y_predict_pls).reshape(20,3)\n",
    "y_test_pls = np.array(y_test_pls).reshape(20,3)"
   ]
  },
  {
   "cell_type": "code",
   "execution_count": 29,
   "metadata": {},
   "outputs": [
    {
     "data": {
      "text/plain": [
       "0.3803848191192367"
      ]
     },
     "execution_count": 29,
     "metadata": {},
     "output_type": "execute_result"
    }
   ],
   "source": [
    "mean_squared_error(y_test_pls, y_predict_pls)"
   ]
  },
  {
   "cell_type": "code",
   "execution_count": 59,
   "metadata": {},
   "outputs": [],
   "source": [
    "#OLS on cars data + leave one out \n",
    "y_predict_ols = []\n",
    "y_test_ols = []\n",
    "\n",
    "\n",
    "for train_index, test_index in kf.split(X):\n",
    "    \n",
    "    X_train, X_test = X[train_index], X[test_index]\n",
    "    y_train, y_test = Y[train_index], Y[test_index]\n",
    "    \n",
    "    reg1 = LinearRegression().fit(X_train, y_train[:,0])\n",
    "    reg2 = LinearRegression().fit(X_train, y_train[:,1])\n",
    "    reg3 = LinearRegression().fit(X_train, y_train[:,2])\n",
    "    \n",
    "    p1 = reg1.predict(X_test)\n",
    "    p2 = reg2.predict(X_test)\n",
    "    p3 = reg3.predict(X_test)\n",
    "    \n",
    "    y_test_ols.append(y_test)\n",
    "    y_predict_ols.append([p1 ,p2, p3])\n",
    "\n",
    "\n"
   ]
  },
  {
   "cell_type": "code",
   "execution_count": 60,
   "metadata": {},
   "outputs": [],
   "source": [
    "y_predict_ols = np.array(y_predict_ols).reshape(20,3)\n",
    "y_test_ols = np.array(y_test_ols).reshape(20,3)"
   ]
  },
  {
   "cell_type": "code",
   "execution_count": 61,
   "metadata": {},
   "outputs": [
    {
     "data": {
      "text/plain": [
       "0.7889150488375855"
      ]
     },
     "execution_count": 61,
     "metadata": {},
     "output_type": "execute_result"
    }
   ],
   "source": [
    "mean_squared_error(y_test_ols, y_predict_ols)"
   ]
  },
  {
   "cell_type": "code",
   "execution_count": 33,
   "metadata": {},
   "outputs": [
    {
     "name": "stdout",
     "output_type": "stream",
     "text": [
      "{'alpha': 5}\n",
      "-0.4260849040371636\n"
     ]
    }
   ],
   "source": [
    "#Ridge Regression\n",
    "\n",
    "#Select best parameter alpha\n",
    "ridge = Ridge()\n",
    "parameters = {'alpha' : [1e-10, 1e-8, 1e-4, 1e-3, 1e-2, 1, 5, 10, 20]}\n",
    "ridge_reg = GridSearchCV(ridge, parameters, scoring = 'neg_mean_squared_error', cv = 20)\n",
    "ridge_reg.fit(X, Y)\n",
    "print(ridge_reg.best_params_)\n",
    "print(ridge_reg.best_score_)\n"
   ]
  },
  {
   "cell_type": "code",
   "execution_count": 34,
   "metadata": {},
   "outputs": [],
   "source": [
    "#Ridge Regression\n",
    "\n",
    "y_predict_ridge = []\n",
    "y_test_ridge = []\n",
    "\n",
    "for train_index, test_index in kf.split(X):\n",
    "    \n",
    "    X_train, X_test = X[train_index], X[test_index]\n",
    "    y_train, y_test = Y[train_index], Y[test_index]\n",
    "    \n",
    "    reg = Ridge(alpha=5)\n",
    "    reg.fit(X_train, y_train)\n",
    "    \n",
    "    \n",
    "   \n",
    "    \n",
    "    y_test_ridge.append(y_test)\n",
    "    y_predict_ridge.append(reg.predict(X_test))\n",
    "\n"
   ]
  },
  {
   "cell_type": "code",
   "execution_count": 35,
   "metadata": {},
   "outputs": [],
   "source": [
    "y_predict_ridge = np.array(y_predict_ridge).reshape(20,3)\n",
    "y_test_ridge = np.array(y_test_ridge).reshape(20,3)"
   ]
  },
  {
   "cell_type": "code",
   "execution_count": 36,
   "metadata": {},
   "outputs": [
    {
     "data": {
      "text/plain": [
       "0.4260849040371637"
      ]
     },
     "execution_count": 36,
     "metadata": {},
     "output_type": "execute_result"
    }
   ],
   "source": [
    "mean_squared_error(y_test_ridge, y_predict_ridge)"
   ]
  },
  {
   "cell_type": "code",
   "execution_count": 37,
   "metadata": {},
   "outputs": [
    {
     "name": "stdout",
     "output_type": "stream",
     "text": [
      "[0.42125265 0.29217237 0.11760887 0.0978641  0.04417708 0.01401474\n",
      " 0.00561174]\n"
     ]
    }
   ],
   "source": [
    "#Principal Component Regression \n",
    "pca = PCA(n_components=7)\n",
    "pca.fit(X.T)\n",
    "print(pca.explained_variance_ratio_)"
   ]
  },
  {
   "cell_type": "code",
   "execution_count": 38,
   "metadata": {},
   "outputs": [],
   "source": [
    "Z = pca.components_.T"
   ]
  },
  {
   "cell_type": "code",
   "execution_count": 39,
   "metadata": {},
   "outputs": [
    {
     "data": {
      "text/plain": [
       "((20, 11), (20, 7))"
      ]
     },
     "execution_count": 39,
     "metadata": {},
     "output_type": "execute_result"
    }
   ],
   "source": [
    "X.shape, pca.components_.T.shape"
   ]
  },
  {
   "cell_type": "code",
   "execution_count": 40,
   "metadata": {},
   "outputs": [],
   "source": [
    "#Regress on Principal components\n",
    "\n",
    "y_predict_pcr = []\n",
    "y_test_pcr = []\n",
    "\n",
    "\n",
    "for train_index, test_index in kf.split(Z):\n",
    "    \n",
    "    X_train, X_test = Z[train_index], Z[test_index]\n",
    "    y_train, y_test = Y[train_index], Y[test_index]\n",
    "    \n",
    "    reg1 = LinearRegression().fit(X_train, y_train[:,0])\n",
    "    reg2 = LinearRegression().fit(X_train, y_train[:,1])\n",
    "    reg3 = LinearRegression().fit(X_train, y_train[:,2])\n",
    "    \n",
    "    p1 = reg1.predict(X_test)\n",
    "    p2 = reg2.predict(X_test)\n",
    "    p3 = reg3.predict(X_test)\n",
    "    \n",
    "    y_test_pcr.append(y_test)\n",
    "    y_predict_pcr.append([p1 ,p2, p3])\n",
    "\n",
    "    \n",
    "y_predict_pcr = np.array(y_predict_pcr).reshape(20,3)\n",
    "y_test_pcr = np.array(y_test_pcr).reshape(20,3)\n"
   ]
  },
  {
   "cell_type": "code",
   "execution_count": 41,
   "metadata": {},
   "outputs": [
    {
     "data": {
      "text/plain": [
       "0.529306968832853"
      ]
     },
     "execution_count": 41,
     "metadata": {},
     "output_type": "execute_result"
    }
   ],
   "source": [
    "mean_squared_error(y_test_pcr, y_predict_pcr)"
   ]
  },
  {
   "cell_type": "markdown",
   "metadata": {},
   "source": [
    "# Visualization"
   ]
  },
  {
   "cell_type": "code",
   "execution_count": 62,
   "metadata": {},
   "outputs": [],
   "source": [
    "df_test =pd.DataFrame(Y, columns=['N_conscity', 'N_price', 'N_symboling'] )"
   ]
  },
  {
   "cell_type": "code",
   "execution_count": 63,
   "metadata": {},
   "outputs": [
    {
     "data": {
      "text/html": [
       "<div>\n",
       "<style scoped>\n",
       "    .dataframe tbody tr th:only-of-type {\n",
       "        vertical-align: middle;\n",
       "    }\n",
       "\n",
       "    .dataframe tbody tr th {\n",
       "        vertical-align: top;\n",
       "    }\n",
       "\n",
       "    .dataframe thead th {\n",
       "        text-align: right;\n",
       "    }\n",
       "</style>\n",
       "<table border=\"1\" class=\"dataframe\">\n",
       "  <thead>\n",
       "    <tr style=\"text-align: right;\">\n",
       "      <th></th>\n",
       "      <th>N_conscity</th>\n",
       "      <th>N_price</th>\n",
       "      <th>N_symboling</th>\n",
       "    </tr>\n",
       "  </thead>\n",
       "  <tbody>\n",
       "    <tr>\n",
       "      <td>0</td>\n",
       "      <td>-0.477892</td>\n",
       "      <td>-0.734001</td>\n",
       "      <td>0.877058</td>\n",
       "    </tr>\n",
       "    <tr>\n",
       "      <td>1</td>\n",
       "      <td>-0.088928</td>\n",
       "      <td>-0.069960</td>\n",
       "      <td>0.877058</td>\n",
       "    </tr>\n",
       "    <tr>\n",
       "      <td>2</td>\n",
       "      <td>1.661409</td>\n",
       "      <td>2.178774</td>\n",
       "      <td>-1.754116</td>\n",
       "    </tr>\n",
       "    <tr>\n",
       "      <td>3</td>\n",
       "      <td>0.832302</td>\n",
       "      <td>0.157647</td>\n",
       "      <td>1.754116</td>\n",
       "    </tr>\n",
       "    <tr>\n",
       "      <td>4</td>\n",
       "      <td>0.411168</td>\n",
       "      <td>0.725221</td>\n",
       "      <td>-0.877058</td>\n",
       "    </tr>\n",
       "  </tbody>\n",
       "</table>\n",
       "</div>"
      ],
      "text/plain": [
       "   N_conscity   N_price  N_symboling\n",
       "0   -0.477892 -0.734001     0.877058\n",
       "1   -0.088928 -0.069960     0.877058\n",
       "2    1.661409  2.178774    -1.754116\n",
       "3    0.832302  0.157647     1.754116\n",
       "4    0.411168  0.725221    -0.877058"
      ]
     },
     "execution_count": 63,
     "metadata": {},
     "output_type": "execute_result"
    }
   ],
   "source": [
    "df_test.head()"
   ]
  },
  {
   "cell_type": "code",
   "execution_count": 64,
   "metadata": {},
   "outputs": [],
   "source": [
    "df_test[['PLS_conscity', 'PLS_price', 'PLS_symboling']] = pd.DataFrame(y_predict_pls)"
   ]
  },
  {
   "cell_type": "code",
   "execution_count": 65,
   "metadata": {},
   "outputs": [
    {
     "data": {
      "text/html": [
       "<div>\n",
       "<style scoped>\n",
       "    .dataframe tbody tr th:only-of-type {\n",
       "        vertical-align: middle;\n",
       "    }\n",
       "\n",
       "    .dataframe tbody tr th {\n",
       "        vertical-align: top;\n",
       "    }\n",
       "\n",
       "    .dataframe thead th {\n",
       "        text-align: right;\n",
       "    }\n",
       "</style>\n",
       "<table border=\"1\" class=\"dataframe\">\n",
       "  <thead>\n",
       "    <tr style=\"text-align: right;\">\n",
       "      <th></th>\n",
       "      <th>N_conscity</th>\n",
       "      <th>N_price</th>\n",
       "      <th>N_symboling</th>\n",
       "      <th>PLS_conscity</th>\n",
       "      <th>PLS_price</th>\n",
       "      <th>PLS_symboling</th>\n",
       "    </tr>\n",
       "  </thead>\n",
       "  <tbody>\n",
       "    <tr>\n",
       "      <td>0</td>\n",
       "      <td>-0.477892</td>\n",
       "      <td>-0.734001</td>\n",
       "      <td>0.877058</td>\n",
       "      <td>-0.158400</td>\n",
       "      <td>-0.894711</td>\n",
       "      <td>-0.047520</td>\n",
       "    </tr>\n",
       "    <tr>\n",
       "      <td>1</td>\n",
       "      <td>-0.088928</td>\n",
       "      <td>-0.069960</td>\n",
       "      <td>0.877058</td>\n",
       "      <td>-0.008222</td>\n",
       "      <td>-0.136748</td>\n",
       "      <td>0.755349</td>\n",
       "    </tr>\n",
       "    <tr>\n",
       "      <td>2</td>\n",
       "      <td>1.661409</td>\n",
       "      <td>2.178774</td>\n",
       "      <td>-1.754116</td>\n",
       "      <td>2.049679</td>\n",
       "      <td>1.288042</td>\n",
       "      <td>-0.017508</td>\n",
       "    </tr>\n",
       "    <tr>\n",
       "      <td>3</td>\n",
       "      <td>0.832302</td>\n",
       "      <td>0.157647</td>\n",
       "      <td>1.754116</td>\n",
       "      <td>1.105924</td>\n",
       "      <td>0.942771</td>\n",
       "      <td>0.169602</td>\n",
       "    </tr>\n",
       "    <tr>\n",
       "      <td>4</td>\n",
       "      <td>0.411168</td>\n",
       "      <td>0.725221</td>\n",
       "      <td>-0.877058</td>\n",
       "      <td>0.424986</td>\n",
       "      <td>0.529146</td>\n",
       "      <td>-1.010450</td>\n",
       "    </tr>\n",
       "  </tbody>\n",
       "</table>\n",
       "</div>"
      ],
      "text/plain": [
       "   N_conscity   N_price  N_symboling  PLS_conscity  PLS_price  PLS_symboling\n",
       "0   -0.477892 -0.734001     0.877058     -0.158400  -0.894711      -0.047520\n",
       "1   -0.088928 -0.069960     0.877058     -0.008222  -0.136748       0.755349\n",
       "2    1.661409  2.178774    -1.754116      2.049679   1.288042      -0.017508\n",
       "3    0.832302  0.157647     1.754116      1.105924   0.942771       0.169602\n",
       "4    0.411168  0.725221    -0.877058      0.424986   0.529146      -1.010450"
      ]
     },
     "execution_count": 65,
     "metadata": {},
     "output_type": "execute_result"
    }
   ],
   "source": [
    "df_test.head()"
   ]
  },
  {
   "cell_type": "code",
   "execution_count": 66,
   "metadata": {},
   "outputs": [
    {
     "data": {
      "text/plain": [
       "Text(0, 0.5, 'Symboling (predict)')"
      ]
     },
     "execution_count": 66,
     "metadata": {},
     "output_type": "execute_result"
    },
    {
     "data": {
      "image/png": "[encoded data removed]",
      "text/plain": [
       "<Figure size 1080x360 with 3 Axes>"
      ]
     },
     "metadata": {
      "needs_background": "light"
     },
     "output_type": "display_data"
    }
   ],
   "source": [
    "fig, axs = plt.subplots(1,3, figsize = (15, 5))\n",
    "fig.suptitle('PLS Performance', fontsize=20)\n",
    "axs[0].scatter(df_test[\"N_conscity\"], df_test[\"PLS_conscity\"] , c = 'black')\n",
    "axs[0].plot([0, 1], [0, 1], transform=axs[0].transAxes, c = 'black', linestyle='dashed')\n",
    "axs[0].set_xlabel('Conscity (test)')\n",
    "axs[0].set_ylabel('Conscity (predict)')\n",
    "\n",
    "\n",
    "\n",
    "axs[1].scatter(df_test[\"N_price\"], df_test[\"PLS_price\"] , c = 'black')\n",
    "axs[1].plot([0, 1], [0, 1], transform=axs[1].transAxes, c = 'black', linestyle='dashed')\n",
    "axs[1].set_xlabel('Price (test)')\n",
    "axs[1].set_ylabel('Price (predict)')\n",
    "\n",
    "\n",
    "axs[2].scatter(df_test[\"N_symboling\"], df_test[\"PLS_symboling\"] , c = 'black')\n",
    "axs[2].plot([0, 1], [0, 1], transform=axs[2].transAxes, c = 'black', linestyle='dashed')\n",
    "axs[2].set_xlabel('Symboling (test)')\n",
    "axs[2].set_ylabel('Symboling (predict)')"
   ]
  },
  {
   "cell_type": "code",
   "execution_count": 67,
   "metadata": {},
   "outputs": [
    {
     "data": {
      "text/html": [
       "<div>\n",
       "<style scoped>\n",
       "    .dataframe tbody tr th:only-of-type {\n",
       "        vertical-align: middle;\n",
       "    }\n",
       "\n",
       "    .dataframe tbody tr th {\n",
       "        vertical-align: top;\n",
       "    }\n",
       "\n",
       "    .dataframe thead th {\n",
       "        text-align: right;\n",
       "    }\n",
       "</style>\n",
       "<table border=\"1\" class=\"dataframe\">\n",
       "  <thead>\n",
       "    <tr style=\"text-align: right;\">\n",
       "      <th></th>\n",
       "      <th>N_conscity</th>\n",
       "      <th>N_price</th>\n",
       "      <th>N_symboling</th>\n",
       "      <th>PLS_conscity</th>\n",
       "      <th>PLS_price</th>\n",
       "      <th>PLS_symboling</th>\n",
       "      <th>OLS_conscity</th>\n",
       "      <th>OLS_price</th>\n",
       "      <th>OLS_symboling</th>\n",
       "    </tr>\n",
       "  </thead>\n",
       "  <tbody>\n",
       "    <tr>\n",
       "      <td>0</td>\n",
       "      <td>-0.477892</td>\n",
       "      <td>-0.734001</td>\n",
       "      <td>0.877058</td>\n",
       "      <td>-0.158400</td>\n",
       "      <td>-0.894711</td>\n",
       "      <td>-0.047520</td>\n",
       "      <td>-0.137693</td>\n",
       "      <td>-0.676801</td>\n",
       "      <td>-0.134618</td>\n",
       "    </tr>\n",
       "    <tr>\n",
       "      <td>1</td>\n",
       "      <td>-0.088928</td>\n",
       "      <td>-0.069960</td>\n",
       "      <td>0.877058</td>\n",
       "      <td>-0.008222</td>\n",
       "      <td>-0.136748</td>\n",
       "      <td>0.755349</td>\n",
       "      <td>-0.150791</td>\n",
       "      <td>-0.034786</td>\n",
       "      <td>0.821862</td>\n",
       "    </tr>\n",
       "    <tr>\n",
       "      <td>2</td>\n",
       "      <td>1.661409</td>\n",
       "      <td>2.178774</td>\n",
       "      <td>-1.754116</td>\n",
       "      <td>2.049679</td>\n",
       "      <td>1.288042</td>\n",
       "      <td>-0.017508</td>\n",
       "      <td>2.053453</td>\n",
       "      <td>1.967898</td>\n",
       "      <td>1.717159</td>\n",
       "    </tr>\n",
       "    <tr>\n",
       "      <td>3</td>\n",
       "      <td>0.832302</td>\n",
       "      <td>0.157647</td>\n",
       "      <td>1.754116</td>\n",
       "      <td>1.105924</td>\n",
       "      <td>0.942771</td>\n",
       "      <td>0.169602</td>\n",
       "      <td>0.741303</td>\n",
       "      <td>0.893708</td>\n",
       "      <td>0.076226</td>\n",
       "    </tr>\n",
       "    <tr>\n",
       "      <td>4</td>\n",
       "      <td>0.411168</td>\n",
       "      <td>0.725221</td>\n",
       "      <td>-0.877058</td>\n",
       "      <td>0.424986</td>\n",
       "      <td>0.529146</td>\n",
       "      <td>-1.010450</td>\n",
       "      <td>0.255424</td>\n",
       "      <td>0.728686</td>\n",
       "      <td>-1.493855</td>\n",
       "    </tr>\n",
       "  </tbody>\n",
       "</table>\n",
       "</div>"
      ],
      "text/plain": [
       "   N_conscity   N_price  N_symboling  PLS_conscity  PLS_price  PLS_symboling  \\\n",
       "0   -0.477892 -0.734001     0.877058     -0.158400  -0.894711      -0.047520   \n",
       "1   -0.088928 -0.069960     0.877058     -0.008222  -0.136748       0.755349   \n",
       "2    1.661409  2.178774    -1.754116      2.049679   1.288042      -0.017508   \n",
       "3    0.832302  0.157647     1.754116      1.105924   0.942771       0.169602   \n",
       "4    0.411168  0.725221    -0.877058      0.424986   0.529146      -1.010450   \n",
       "\n",
       "   OLS_conscity  OLS_price  OLS_symboling  \n",
       "0     -0.137693  -0.676801      -0.134618  \n",
       "1     -0.150791  -0.034786       0.821862  \n",
       "2      2.053453   1.967898       1.717159  \n",
       "3      0.741303   0.893708       0.076226  \n",
       "4      0.255424   0.728686      -1.493855  "
      ]
     },
     "execution_count": 67,
     "metadata": {},
     "output_type": "execute_result"
    }
   ],
   "source": [
    "df_test[['OLS_conscity', 'OLS_price', 'OLS_symboling']] = pd.DataFrame(y_predict_ols)\n",
    "df_test.head()"
   ]
  },
  {
   "cell_type": "code",
   "execution_count": 69,
   "metadata": {},
   "outputs": [
    {
     "data": {
      "text/plain": [
       "Text(0, 0.5, 'Symboling (predict)')"
      ]
     },
     "execution_count": 69,
     "metadata": {},
     "output_type": "execute_result"
    },
    {
     "data": {
      "image/png": "[encoded data removed]",
      "text/plain": [
       "<Figure size 1080x360 with 3 Axes>"
      ]
     },
     "metadata": {
      "needs_background": "light"
     },
     "output_type": "display_data"
    }
   ],
   "source": [
    "fig, axs = plt.subplots(1,3, figsize = (15, 5))\n",
    "fig.suptitle('OLS Performance', fontsize=20)\n",
    "axs[0].scatter(df_test[\"N_conscity\"], df_test[\"OLS_conscity\"])\n",
    "axs[0].plot([0, 1], [0, 1], transform=axs[0].transAxes, linestyle='dashed')\n",
    "axs[0].set_xlabel('Conscity (test)')\n",
    "axs[0].set_ylabel('Conscity (predict)')\n",
    "\n",
    "\n",
    "axs[1].scatter(df_test[\"N_price\"], df_test[\"OLS_price\"] )\n",
    "axs[1].plot([0, 1], [0, 1], transform=axs[1].transAxes,  linestyle='dashed')\n",
    "axs[1].set_xlabel('Price (test)')\n",
    "axs[1].set_ylabel('Price (predict)')\n",
    "\n",
    "\n",
    "axs[2].scatter(df_test[\"N_symboling\"], df_test[\"OLS_symboling\"] )\n",
    "axs[2].plot([0, 1], [0, 1], transform=axs[2].transAxes,  linestyle='dashed')\n",
    "axs[2].set_xlabel('Symboling (test)')\n",
    "axs[2].set_ylabel('Symboling (predict)')"
   ]
  },
  {
   "cell_type": "code",
   "execution_count": 70,
   "metadata": {},
   "outputs": [
    {
     "data": {
      "text/html": [
       "<div>\n",
       "<style scoped>\n",
       "    .dataframe tbody tr th:only-of-type {\n",
       "        vertical-align: middle;\n",
       "    }\n",
       "\n",
       "    .dataframe tbody tr th {\n",
       "        vertical-align: top;\n",
       "    }\n",
       "\n",
       "    .dataframe thead th {\n",
       "        text-align: right;\n",
       "    }\n",
       "</style>\n",
       "<table border=\"1\" class=\"dataframe\">\n",
       "  <thead>\n",
       "    <tr style=\"text-align: right;\">\n",
       "      <th></th>\n",
       "      <th>N_conscity</th>\n",
       "      <th>N_price</th>\n",
       "      <th>N_symboling</th>\n",
       "      <th>PLS_conscity</th>\n",
       "      <th>PLS_price</th>\n",
       "      <th>PLS_symboling</th>\n",
       "      <th>OLS_conscity</th>\n",
       "      <th>OLS_price</th>\n",
       "      <th>OLS_symboling</th>\n",
       "      <th>Ridge_conscity</th>\n",
       "      <th>Ridge_price</th>\n",
       "      <th>Ridge_symboling</th>\n",
       "    </tr>\n",
       "  </thead>\n",
       "  <tbody>\n",
       "    <tr>\n",
       "      <td>0</td>\n",
       "      <td>-0.477892</td>\n",
       "      <td>-0.734001</td>\n",
       "      <td>0.877058</td>\n",
       "      <td>-0.158400</td>\n",
       "      <td>-0.894711</td>\n",
       "      <td>-0.047520</td>\n",
       "      <td>-0.137693</td>\n",
       "      <td>-0.676801</td>\n",
       "      <td>-0.134618</td>\n",
       "      <td>-0.197439</td>\n",
       "      <td>-0.575342</td>\n",
       "      <td>0.102099</td>\n",
       "    </tr>\n",
       "    <tr>\n",
       "      <td>1</td>\n",
       "      <td>-0.088928</td>\n",
       "      <td>-0.069960</td>\n",
       "      <td>0.877058</td>\n",
       "      <td>-0.008222</td>\n",
       "      <td>-0.136748</td>\n",
       "      <td>0.755349</td>\n",
       "      <td>-0.150791</td>\n",
       "      <td>-0.034786</td>\n",
       "      <td>0.821862</td>\n",
       "      <td>-0.017146</td>\n",
       "      <td>-0.108850</td>\n",
       "      <td>-0.003480</td>\n",
       "    </tr>\n",
       "    <tr>\n",
       "      <td>2</td>\n",
       "      <td>1.661409</td>\n",
       "      <td>2.178774</td>\n",
       "      <td>-1.754116</td>\n",
       "      <td>2.049679</td>\n",
       "      <td>1.288042</td>\n",
       "      <td>-0.017508</td>\n",
       "      <td>2.053453</td>\n",
       "      <td>1.967898</td>\n",
       "      <td>1.717159</td>\n",
       "      <td>1.944111</td>\n",
       "      <td>1.296698</td>\n",
       "      <td>-0.354431</td>\n",
       "    </tr>\n",
       "    <tr>\n",
       "      <td>3</td>\n",
       "      <td>0.832302</td>\n",
       "      <td>0.157647</td>\n",
       "      <td>1.754116</td>\n",
       "      <td>1.105924</td>\n",
       "      <td>0.942771</td>\n",
       "      <td>0.169602</td>\n",
       "      <td>0.741303</td>\n",
       "      <td>0.893708</td>\n",
       "      <td>0.076226</td>\n",
       "      <td>1.088441</td>\n",
       "      <td>0.949889</td>\n",
       "      <td>-0.130269</td>\n",
       "    </tr>\n",
       "    <tr>\n",
       "      <td>4</td>\n",
       "      <td>0.411168</td>\n",
       "      <td>0.725221</td>\n",
       "      <td>-0.877058</td>\n",
       "      <td>0.424986</td>\n",
       "      <td>0.529146</td>\n",
       "      <td>-1.010450</td>\n",
       "      <td>0.255424</td>\n",
       "      <td>0.728686</td>\n",
       "      <td>-1.493855</td>\n",
       "      <td>0.319003</td>\n",
       "      <td>0.383400</td>\n",
       "      <td>-0.299150</td>\n",
       "    </tr>\n",
       "  </tbody>\n",
       "</table>\n",
       "</div>"
      ],
      "text/plain": [
       "   N_conscity   N_price  N_symboling  PLS_conscity  PLS_price  PLS_symboling  \\\n",
       "0   -0.477892 -0.734001     0.877058     -0.158400  -0.894711      -0.047520   \n",
       "1   -0.088928 -0.069960     0.877058     -0.008222  -0.136748       0.755349   \n",
       "2    1.661409  2.178774    -1.754116      2.049679   1.288042      -0.017508   \n",
       "3    0.832302  0.157647     1.754116      1.105924   0.942771       0.169602   \n",
       "4    0.411168  0.725221    -0.877058      0.424986   0.529146      -1.010450   \n",
       "\n",
       "   OLS_conscity  OLS_price  OLS_symboling  Ridge_conscity  Ridge_price  \\\n",
       "0     -0.137693  -0.676801      -0.134618       -0.197439    -0.575342   \n",
       "1     -0.150791  -0.034786       0.821862       -0.017146    -0.108850   \n",
       "2      2.053453   1.967898       1.717159        1.944111     1.296698   \n",
       "3      0.741303   0.893708       0.076226        1.088441     0.949889   \n",
       "4      0.255424   0.728686      -1.493855        0.319003     0.383400   \n",
       "\n",
       "   Ridge_symboling  \n",
       "0         0.102099  \n",
       "1        -0.003480  \n",
       "2        -0.354431  \n",
       "3        -0.130269  \n",
       "4        -0.299150  "
      ]
     },
     "execution_count": 70,
     "metadata": {},
     "output_type": "execute_result"
    }
   ],
   "source": [
    "df_test[['Ridge_conscity', 'Ridge_price', 'Ridge_symboling']] = pd.DataFrame(y_predict_ridge)\n",
    "df_test.head()"
   ]
  },
  {
   "cell_type": "code",
   "execution_count": 71,
   "metadata": {},
   "outputs": [
    {
     "data": {
      "text/plain": [
       "Text(0, 0.5, 'Symboling (predict)')"
      ]
     },
     "execution_count": 71,
     "metadata": {},
     "output_type": "execute_result"
    },
    {
     "data": {
      "image/png": "[encoded data removed]",
      "text/plain": [
       "<Figure size 1080x360 with 3 Axes>"
      ]
     },
     "metadata": {
      "needs_background": "light"
     },
     "output_type": "display_data"
    }
   ],
   "source": [
    "fig, axs = plt.subplots(1,3, figsize = (15, 5))\n",
    "fig.suptitle('Ridge Performance', fontsize=20)\n",
    "axs[0].scatter(df_test[\"N_conscity\"], df_test[\"Ridge_conscity\"], c = 'orange' )\n",
    "axs[0].plot([0, 1], [0, 1], transform=axs[0].transAxes, c = 'orange', linestyle='dashed')\n",
    "axs[0].set_xlabel('Conscity (test)')\n",
    "axs[0].set_ylabel('Conscity (predict)')\n",
    "\n",
    "\n",
    "axs[1].scatter(df_test[\"N_price\"], df_test[\"Ridge_price\"], c = 'orange' )\n",
    "axs[1].plot([0, 1], [0, 1], transform=axs[1].transAxes, c = 'orange', linestyle='dashed')\n",
    "axs[1].set_xlabel('Price (test)')\n",
    "axs[1].set_ylabel('Price (predict)')\n",
    "\n",
    "\n",
    "axs[2].scatter(df_test[\"N_symboling\"], df_test[\"Ridge_symboling\"], c = 'orange' )\n",
    "axs[2].plot([0, 1], [0, 1], transform=axs[2].transAxes, c = 'orange', linestyle='dashed')\n",
    "axs[2].set_xlabel('Symboling (test)')\n",
    "axs[2].set_ylabel('Symboling (predict)')"
   ]
  },
  {
   "cell_type": "code",
   "execution_count": 72,
   "metadata": {},
   "outputs": [
    {
     "data": {
      "text/html": [
       "<div>\n",
       "<style scoped>\n",
       "    .dataframe tbody tr th:only-of-type {\n",
       "        vertical-align: middle;\n",
       "    }\n",
       "\n",
       "    .dataframe tbody tr th {\n",
       "        vertical-align: top;\n",
       "    }\n",
       "\n",
       "    .dataframe thead th {\n",
       "        text-align: right;\n",
       "    }\n",
       "</style>\n",
       "<table border=\"1\" class=\"dataframe\">\n",
       "  <thead>\n",
       "    <tr style=\"text-align: right;\">\n",
       "      <th></th>\n",
       "      <th>N_conscity</th>\n",
       "      <th>N_price</th>\n",
       "      <th>N_symboling</th>\n",
       "      <th>PLS_conscity</th>\n",
       "      <th>PLS_price</th>\n",
       "      <th>PLS_symboling</th>\n",
       "      <th>OLS_conscity</th>\n",
       "      <th>OLS_price</th>\n",
       "      <th>OLS_symboling</th>\n",
       "      <th>Ridge_conscity</th>\n",
       "      <th>Ridge_price</th>\n",
       "      <th>Ridge_symboling</th>\n",
       "      <th>PCR_conscity</th>\n",
       "      <th>PCR_price</th>\n",
       "      <th>PCR_symboling</th>\n",
       "    </tr>\n",
       "  </thead>\n",
       "  <tbody>\n",
       "    <tr>\n",
       "      <td>0</td>\n",
       "      <td>-0.477892</td>\n",
       "      <td>-0.734001</td>\n",
       "      <td>0.877058</td>\n",
       "      <td>-0.158400</td>\n",
       "      <td>-0.894711</td>\n",
       "      <td>-0.047520</td>\n",
       "      <td>-0.137693</td>\n",
       "      <td>-0.676801</td>\n",
       "      <td>-0.134618</td>\n",
       "      <td>-0.197439</td>\n",
       "      <td>-0.575342</td>\n",
       "      <td>0.102099</td>\n",
       "      <td>0.083218</td>\n",
       "      <td>-0.533264</td>\n",
       "      <td>-0.243432</td>\n",
       "    </tr>\n",
       "    <tr>\n",
       "      <td>1</td>\n",
       "      <td>-0.088928</td>\n",
       "      <td>-0.069960</td>\n",
       "      <td>0.877058</td>\n",
       "      <td>-0.008222</td>\n",
       "      <td>-0.136748</td>\n",
       "      <td>0.755349</td>\n",
       "      <td>-0.150791</td>\n",
       "      <td>-0.034786</td>\n",
       "      <td>0.821862</td>\n",
       "      <td>-0.017146</td>\n",
       "      <td>-0.108850</td>\n",
       "      <td>-0.003480</td>\n",
       "      <td>0.003676</td>\n",
       "      <td>-0.371042</td>\n",
       "      <td>0.744712</td>\n",
       "    </tr>\n",
       "    <tr>\n",
       "      <td>2</td>\n",
       "      <td>1.661409</td>\n",
       "      <td>2.178774</td>\n",
       "      <td>-1.754116</td>\n",
       "      <td>2.049679</td>\n",
       "      <td>1.288042</td>\n",
       "      <td>-0.017508</td>\n",
       "      <td>2.053453</td>\n",
       "      <td>1.967898</td>\n",
       "      <td>1.717159</td>\n",
       "      <td>1.944111</td>\n",
       "      <td>1.296698</td>\n",
       "      <td>-0.354431</td>\n",
       "      <td>2.189832</td>\n",
       "      <td>1.174278</td>\n",
       "      <td>0.346562</td>\n",
       "    </tr>\n",
       "    <tr>\n",
       "      <td>3</td>\n",
       "      <td>0.832302</td>\n",
       "      <td>0.157647</td>\n",
       "      <td>1.754116</td>\n",
       "      <td>1.105924</td>\n",
       "      <td>0.942771</td>\n",
       "      <td>0.169602</td>\n",
       "      <td>0.741303</td>\n",
       "      <td>0.893708</td>\n",
       "      <td>0.076226</td>\n",
       "      <td>1.088441</td>\n",
       "      <td>0.949889</td>\n",
       "      <td>-0.130269</td>\n",
       "      <td>0.495244</td>\n",
       "      <td>0.211356</td>\n",
       "      <td>0.261149</td>\n",
       "    </tr>\n",
       "    <tr>\n",
       "      <td>4</td>\n",
       "      <td>0.411168</td>\n",
       "      <td>0.725221</td>\n",
       "      <td>-0.877058</td>\n",
       "      <td>0.424986</td>\n",
       "      <td>0.529146</td>\n",
       "      <td>-1.010450</td>\n",
       "      <td>0.255424</td>\n",
       "      <td>0.728686</td>\n",
       "      <td>-1.493855</td>\n",
       "      <td>0.319003</td>\n",
       "      <td>0.383400</td>\n",
       "      <td>-0.299150</td>\n",
       "      <td>0.371493</td>\n",
       "      <td>0.391381</td>\n",
       "      <td>-1.012221</td>\n",
       "    </tr>\n",
       "  </tbody>\n",
       "</table>\n",
       "</div>"
      ],
      "text/plain": [
       "   N_conscity   N_price  N_symboling  PLS_conscity  PLS_price  PLS_symboling  \\\n",
       "0   -0.477892 -0.734001     0.877058     -0.158400  -0.894711      -0.047520   \n",
       "1   -0.088928 -0.069960     0.877058     -0.008222  -0.136748       0.755349   \n",
       "2    1.661409  2.178774    -1.754116      2.049679   1.288042      -0.017508   \n",
       "3    0.832302  0.157647     1.754116      1.105924   0.942771       0.169602   \n",
       "4    0.411168  0.725221    -0.877058      0.424986   0.529146      -1.010450   \n",
       "\n",
       "   OLS_conscity  OLS_price  OLS_symboling  Ridge_conscity  Ridge_price  \\\n",
       "0     -0.137693  -0.676801      -0.134618       -0.197439    -0.575342   \n",
       "1     -0.150791  -0.034786       0.821862       -0.017146    -0.108850   \n",
       "2      2.053453   1.967898       1.717159        1.944111     1.296698   \n",
       "3      0.741303   0.893708       0.076226        1.088441     0.949889   \n",
       "4      0.255424   0.728686      -1.493855        0.319003     0.383400   \n",
       "\n",
       "   Ridge_symboling  PCR_conscity  PCR_price  PCR_symboling  \n",
       "0         0.102099      0.083218  -0.533264      -0.243432  \n",
       "1        -0.003480      0.003676  -0.371042       0.744712  \n",
       "2        -0.354431      2.189832   1.174278       0.346562  \n",
       "3        -0.130269      0.495244   0.211356       0.261149  \n",
       "4        -0.299150      0.371493   0.391381      -1.012221  "
      ]
     },
     "execution_count": 72,
     "metadata": {},
     "output_type": "execute_result"
    }
   ],
   "source": [
    "df_test[['PCR_conscity', 'PCR_price', 'PCR_symboling']] = pd.DataFrame(y_predict_pcr)\n",
    "df_test.head()"
   ]
  },
  {
   "cell_type": "code",
   "execution_count": 73,
   "metadata": {},
   "outputs": [
    {
     "data": {
      "text/plain": [
       "Text(0, 0.5, 'Symboling (predict)')"
      ]
     },
     "execution_count": 73,
     "metadata": {},
     "output_type": "execute_result"
    },
    {
     "data": {
      "image/png": "[encoded data removed]",
      "text/plain": [
       "<Figure size 1080x360 with 3 Axes>"
      ]
     },
     "metadata": {
      "needs_background": "light"
     },
     "output_type": "display_data"
    }
   ],
   "source": [
    "fig, axs = plt.subplots(1,3, figsize = (15, 5))\n",
    "fig.suptitle('PCR Performance', fontsize=20)\n",
    "axs[0].scatter(df_test[\"N_conscity\"], df_test[\"PCR_conscity\"], c = 'navy' )\n",
    "axs[0].plot([0, 1], [0, 1], transform=axs[0].transAxes, c = 'navy', linestyle='dashed')\n",
    "axs[0].set_xlabel('Conscity (test)')\n",
    "axs[0].set_ylabel('Conscity (predict)')\n",
    "\n",
    "\n",
    "axs[1].scatter(df_test[\"N_price\"], df_test[\"PCR_price\"], c = 'navy' )\n",
    "axs[1].plot([0, 1], [0, 1], transform=axs[1].transAxes, c = 'navy', linestyle='dashed')\n",
    "axs[1].set_xlabel('Price (test)')\n",
    "axs[1].set_ylabel('Price (predict)')\n",
    "\n",
    "\n",
    "axs[2].scatter(df_test[\"N_symboling\"], df_test[\"PCR_symboling\"], c = 'navy' )\n",
    "axs[2].plot([0, 1], [0, 1], transform=axs[2].transAxes, c = 'navy', linestyle='dashed')\n",
    "axs[2].set_xlabel('Symboling (test)')\n",
    "axs[2].set_ylabel('Symboling (predict)')"
   ]
  },
  {
   "cell_type": "code",
   "execution_count": null,
   "metadata": {},
   "outputs": [],
   "source": []
  }
 ],
 "metadata": {
  "kernelspec": {
   "display_name": "Python 3",
   "language": "python",
   "name": "python3"
  },
  "language_info": {
   "codemirror_mode": {
    "name": "ipython",
    "version": 3
   },
   "file_extension": ".py",
   "mimetype": "text/x-python",
   "name": "python",
   "nbconvert_exporter": "python",
   "pygments_lexer": "ipython3",
   "version": "3.7.4"
  }
 },
 "nbformat": 4,
 "nbformat_minor": 2
}
